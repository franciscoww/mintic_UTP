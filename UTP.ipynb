{
  "nbformat": 4,
  "nbformat_minor": 0,
  "metadata": {
    "colab": {
      "name": "UTP.ipynb",
      "provenance": [],
      "authorship_tag": "ABX9TyOjFMP2ZQd0Pw7MctwwRNHk",
      "include_colab_link": true
    },
    "kernelspec": {
      "name": "python3",
      "display_name": "Python 3"
    },
    "language_info": {
      "name": "python"
    }
  },
  "cells": [
    {
      "cell_type": "markdown",
      "metadata": {
        "id": "view-in-github",
        "colab_type": "text"
      },
      "source": [
        "<a href=\"https://colab.research.google.com/github/franciscoww/mintic_UTP/blob/master/UTP.ipynb\" target=\"_parent\"><img src=\"https://colab.research.google.com/assets/colab-badge.svg\" alt=\"Open In Colab\"/></a>"
      ]
    },
    {
      "cell_type": "markdown",
      "metadata": {
        "id": "71QdQ09SgDF9"
      },
      "source": [
        "#Repositorio\n",
        "ciclo 1"
      ]
    },
    {
      "cell_type": "code",
      "metadata": {
        "id": "W8RH6q9jgLD8"
      },
      "source": [
        "!git clone https://github.com/iam3mer/mTICP472022.git"
      ],
      "execution_count": null,
      "outputs": []
    },
    {
      "cell_type": "markdown",
      "metadata": {
        "id": "bHNndiQxJ1YY"
      },
      "source": [
        "#Calificaciones\n",
        " Un alumno desea saber cual será su calificación final en la materia de Algoritmos.\n"
      ]
    },
    {
      "cell_type": "code",
      "metadata": {
        "id": "87ggJrimJ2tI"
      },
      "source": [
        " #Dicha calificación se compone de los siguientes porcentajes:\n",
        " #* 55% del promedio de sus tres calificaciones parciales.\n",
        " #* 30% de la calificación del examen final.\n",
        " #* 15% de la calificación de un trabajo final.\n",
        "\n",
        "parcial1 = float(input(\"Dime la nota del parcial 1:\"))\n",
        "parcial2 = float(input(\"Dime la nota del parcial 2:\"))\n",
        "parcial3 = float(input(\"Dime la nota del parcial 3:\"))\n",
        "examen = float(input(\"Dime la nota del examen:\"))\n",
        "trabajo = float(input(\"Dime la nota del trabajo:\"))\n",
        "nota = ((parcial1 + parcial2 + parcial3) / 3) * 0.55 + 0.3 * examen + 0.15 * trabajo\n",
        "print(\"nota final:\", nota)"
      ],
      "execution_count": null,
      "outputs": []
    },
    {
      "cell_type": "markdown",
      "metadata": {
        "id": "cwtv_XWoKcFK"
      },
      "source": [
        "#Area y perimetro de un cuadrado\n"
      ]
    },
    {
      "cell_type": "code",
      "metadata": {
        "id": "Wc3h-BxPJLOE"
      },
      "source": [
        " \n",
        "while True:\n",
        "    print(\"-----------MENU-----------\")\n",
        "    print(\"\\t1. Calcular area.\")\n",
        "    print(\"\\t2. Calcular perimetro.\")\n",
        "    print(\"\\t3. Salir\")\n",
        "    print(\"--------------------------\\n\")\n",
        " \n",
        "    opcion = input(\"Ingrese una opción: \")\n",
        " \n",
        "    if opcion == '1':\n",
        "        L = float(input(\"Ingrese el valor del lado: \"))\n",
        "        area = L * L\n",
        "        print(\"El area del cuadrado es: \\n\", area)\n",
        "    elif opcion == '2':\n",
        "        L = float(input(\"Ingrese el valor del lado: \"))\n",
        "        perimetro = L * 4\n",
        "        print(f\"El perimetro del cuadrado es: {perimetro} \\n\")\n",
        "    elif opcion == '3':\n",
        "        print(\"Hasta luego! A finalizado la ejecución del programa.\")\n",
        "        break\n",
        "    else:\n",
        "        print(\"Ingreso una opción no valida.\")"
      ],
      "execution_count": null,
      "outputs": []
    },
    {
      "cell_type": "markdown",
      "metadata": {
        "id": "n2WgGTA9K1zY"
      },
      "source": [
        "#RETO 1\n",
        "Hallar el area de una pieza conformada por 6 cubos"
      ]
    },
    {
      "cell_type": "code",
      "metadata": {
        "id": "n7f3hFwtKoW0"
      },
      "source": [
        "def piezas ( lado : int , cubos : int = 6) -> tuple :\n",
        "\n",
        "    areaCara = lado**2\n",
        "    areaCubo = areaCara*6\n",
        "    volumenCubo = lado**3\n",
        "    area=areaCubo*cubos\n",
        "    volumen=volumenCubo*cubos\n",
        "    \n",
        "    return lado , area , volumen\n",
        "print(piezas(3, 4))"
      ],
      "execution_count": null,
      "outputs": []
    },
    {
      "cell_type": "markdown",
      "metadata": {
        "id": "bphaf2tD2GM-"
      },
      "source": [
        "#Calificaciones (uso de booleanos)"
      ]
    },
    {
      "cell_type": "code",
      "metadata": {
        "id": "1w8bz40m2Mec"
      },
      "source": [
        "def ver_calif(calif):\n",
        "  if calif >=0 and calif <= 10:\n",
        "    return True\n",
        "  else:\n",
        "    return False\n",
        "\n",
        "def main ():\n",
        "  calif1 = int(input('Calificacion 1: '))\n",
        "  calif2 = int(input('Calificacion 2: '))\n",
        "  calif3 = int(input('Calificacion 3: '))\n",
        "\n",
        "  if ver_calif(calif1) and ver_calif(calif2) and ver_calif(calif3):\n",
        "    promedio=(calif1+calif2+calif3) / 3\n",
        "    print('El promedio es: ', promedio)\n",
        "  else:\n",
        "    print('Las calificaciones deben ser entre o y 10')\n",
        "\n",
        "main()"
      ],
      "execution_count": null,
      "outputs": []
    },
    {
      "cell_type": "markdown",
      "metadata": {
        "id": "aPWIT6Wfry_b"
      },
      "source": [
        "#Parqueadero"
      ]
    },
    {
      "cell_type": "code",
      "metadata": {
        "id": "lfQyE_Yar4l7"
      },
      "source": [
        "def parqueadero_buses(idBus:int )-> int:\n",
        "    \n",
        "    # dict : {}\n",
        "    # {key: value}\n",
        "    # {'nombre': 'Jhonatan'}\n",
        "    \n",
        "    lotes = {\n",
        "        'lote1': [1,2,3,4,5,6,7,8,9,10],\n",
        "        'lote2': [11,12,13,14,15,16,17,18,19,20],\n",
        "        'lote3': [21,22,23,24,25,26,27,28,29,30,31]\n",
        "        }\n",
        "\n",
        "    if idBus in lotes['lote1']:\n",
        "        return 1\n",
        "    elif idBus in lotes['lote2']:\n",
        "        return 2\n",
        "    elif idBus in lotes['lote3']:\n",
        "        return 3\n",
        "\n",
        "print(parqueadero_buses(5))\n",
        "print(parqueadero_buses(15))\n",
        "print(parqueadero_buses(27))"
      ],
      "execution_count": null,
      "outputs": []
    },
    {
      "cell_type": "markdown",
      "metadata": {
        "id": "5gm2fQzTOzL_"
      },
      "source": [
        "#Ukumari\n",
        "Dadas la capacidad máxima de cada uno de los vasos, así como su capacidad actual, y el usuario al que pertenecen, escriba una función que determine el nombre de la persona a la que se le regaría algo de gaseosa, si se sirve la capacidad fija dada."
      ]
    },
    {
      "cell_type": "code",
      "metadata": {
        "id": "rIQIIlMgLVtP"
      },
      "source": [
        "def desperdicio_de_gaseosa(amigo_1:dict,amigo_2:dict,amigo_3:dict, capacidad_boton:float)->str:\n",
        "  \n",
        "  vaso1 = (amigo_1['capacidad_actual'] + capacidad_boton) -amigo_1['capacidad_vaso']#1.2\n",
        "  vaso2 = (amigo_2['capacidad_actual'] + capacidad_boton) -amigo_2['capacidad_vaso']#2.2\n",
        "  vaso3 = (amigo_3['capacidad_actual'] + capacidad_boton) -amigo_3['capacidad_vaso']#3.2\n",
        "\n",
        "  aux1 = vaso1 > 0\n",
        "  aux2 = vaso2 > 0\n",
        "  aux3 = vaso3 > 0\n",
        "\n",
        "#Que vaso se regó primero?\n",
        "  amigo_1['reboso1']= amigo_1['capacidad_vaso']-amigo_1['capacidad_actual'] #5.0\n",
        "  amigo_2['reboso2']= amigo_2['capacidad_vaso']-amigo_2['capacidad_actual'] #4.0\n",
        "  amigo_3['reboso3']= amigo_3['capacidad_vaso']-amigo_3['capacidad_actual'] #3.0\n",
        "\n",
        "  primero = min(amigo_1['reboso1'],amigo_2['reboso2'],amigo_3['reboso3'])\n",
        "\n",
        "  if aux1 and aux2 and aux3:\n",
        "    if amigo_1['reboso1'] == primero:\n",
        "      return amigo_1['nombre']\n",
        "    if amigo_2['reboso2'] == primero:\n",
        "      return amigo_2['nombre']\n",
        "    if amigo_3['reboso3'] == primero:\n",
        "      return amigo_3['nombre']\n",
        "  elif aux1 and aux2:\n",
        "    if amigo_1['reboso1'] == primero:\n",
        "      return amigo_1['nombre']\n",
        "    if amigo_2['reboso2'] == primero:\n",
        "      return amigo_2['nombre']\n",
        "  elif aux1 and aux3:\n",
        "    if amigo_1['reboso1'] == primero:\n",
        "      return amigo_1['nombre']\n",
        "    if amigo_3['reboso3'] == primero:\n",
        "      return amigo_3['nombre']\n",
        "  elif aux2 and aux3:\n",
        "    if amigo_2['reboso2'] == primero:\n",
        "      return amigo_2['nombre']\n",
        "    if amigo_3['reboso3'] == primero:\n",
        "      return amigo_3['nombre']\n",
        "  elif aux1:\n",
        "    return amigo_1['nombre']\n",
        "  elif aux2:\n",
        "      return amigo_2['nombre']\n",
        "  elif aux3:\n",
        "      return amigo_3['nombre']\n",
        "  else:\n",
        "    return None\n",
        "\n",
        "#-------------------------------------\n",
        "servir = 6.2\n",
        "\n",
        "amigo1 = {\n",
        "    'nombre':'Raul',\n",
        "    'capacidad_actual':7.0,\n",
        "    'capacidad_vaso':820.0\n",
        "}\n",
        "\n",
        "amigo2 = {\n",
        "    'nombre':'Frank',\n",
        "    'capacidad_actual':6.0,\n",
        "    'capacidad_vaso':100.0\n",
        "}\n",
        "\n",
        "amigo3 = {\n",
        "    'nombre':'Jack',\n",
        "    'capacidad_actual':7.0,\n",
        "    'capacidad_vaso':10.0\n",
        "}\n",
        "\n",
        "print(desperdicio_de_gaseosa(amigo1,amigo2,amigo3,servir))\n"
      ],
      "execution_count": null,
      "outputs": []
    },
    {
      "cell_type": "markdown",
      "metadata": {
        "id": "F_03TJaViozj"
      },
      "source": [
        "#While (ciclos)\n",
        "ejemplos"
      ]
    },
    {
      "cell_type": "markdown",
      "metadata": {
        "id": "xcnegihki7FD"
      },
      "source": [
        "Ejemplo numeros factoriales\n",
        "\n"
      ]
    },
    {
      "cell_type": "code",
      "metadata": {
        "id": "JtizBQqxjID7"
      },
      "source": [
        "def factorial(num:int=0): # n! = (n-(n-1)) * (n-(n-2))) * (n-(n-3)) * ... * (n)\n",
        "    salida = 1            # n! = n * (n-1) * (n-2) * ... * (n-(n-1))\n",
        "    num_act = 2           # 6! =  6 * 5 * 4 * 3 * ... 1\n",
        "    while num_act <= num:\n",
        "        salida = salida * num_act\n",
        "        num_act = num_act + 1\n",
        "    return salida\n",
        "\n",
        "print(factorial(1))"
      ],
      "execution_count": null,
      "outputs": []
    },
    {
      "cell_type": "markdown",
      "metadata": {
        "id": "92t2XhW5jONI"
      },
      "source": [
        "Ejemplo Fibonacci"
      ]
    },
    {
      "cell_type": "code",
      "metadata": {
        "id": "8aJKGjeYjTvu"
      },
      "source": [
        "def fibonacci(fibo:int=100)->None: # Serie de Fibonacci hasta valor menor que 100\n",
        "    num1, num2 = 0, 1\n",
        "    while num2 < 100:\n",
        "        print(num2)\n",
        "        num1, num2 = num2, num1 + num2\n",
        "\n",
        "valor = 100\n",
        "fibonacci(valor)"
      ],
      "execution_count": null,
      "outputs": []
    },
    {
      "cell_type": "code",
      "metadata": {
        "id": "okBvzdY4jkhe"
      },
      "source": [
        "def fibonacciModificado(limite:int=100): # los \"100\" primeros numeros de Fibonacci\n",
        "    n = 0\n",
        "    auxLimite = 0\n",
        "    auxN = n + 1\n",
        "    while auxLimite < limite:\n",
        "        auxLimite = auxLimite + 1\n",
        "        print(n)\n",
        "        n, auxN = auxN, n + auxN\n",
        "\n",
        "limite = 50\n",
        "fibonacciModificado(limite)\n"
      ],
      "execution_count": null,
      "outputs": []
    },
    {
      "cell_type": "markdown",
      "metadata": {
        "id": "YBplsggyPQSt"
      },
      "source": [
        "#FOR (ciclos)"
      ]
    },
    {
      "cell_type": "code",
      "metadata": {
        "id": "YKF3Kf-6dIeN"
      },
      "source": [
        "def forSimple():\n",
        "  for veces in range(6):\n",
        "    for seg in range(10):\n",
        "      print(seg)\n",
        "    print('MisiónTIC 2022')\n",
        "forSimple()"
      ],
      "execution_count": null,
      "outputs": []
    },
    {
      "cell_type": "code",
      "metadata": {
        "id": "QaF3cfr5Z00z"
      },
      "source": [
        "def forInfinito():\n",
        "    for b in range(20):\n",
        "        if b == 5:\n",
        "            break # Termina la ejecución del ciclo\n",
        "        \n",
        "        print(b)\n",
        "forInfinito()"
      ],
      "execution_count": null,
      "outputs": []
    },
    {
      "cell_type": "code",
      "metadata": {
        "id": "37JiggFmbbvD"
      },
      "source": [
        "def forContinuo():\n",
        "    for aux in range(20):\n",
        "        if aux % 2 == 0:\n",
        "            continue # Salta las instrucciones en adelante\n",
        "        print(aux)\n",
        "\n",
        "forContinuo()"
      ],
      "execution_count": null,
      "outputs": []
    },
    {
      "cell_type": "code",
      "metadata": {
        "id": "Olt1GFPIQPUS"
      },
      "source": [
        "def forElse():\n",
        "    aux = [3,2,1]\n",
        "    for a in aux:\n",
        "        print(a)\n",
        "       # aux = aux - 1\n",
        "    else:\n",
        "        print('Termino la ejecución de For.') # Siempre se ejecuta.\n",
        "\n",
        "forElse()"
      ],
      "execution_count": null,
      "outputs": []
    }
  ]
}